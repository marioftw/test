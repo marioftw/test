{
 "cells": [
  {
   "cell_type": "markdown",
   "metadata": {},
   "source": [
    "# Sampling\n",
    "\n",
    "## Probability vs Statistics\n",
    "- Probability starts with known probabilities and obtains how probable any particular observation would be\n",
    "- Statistics works the other way around. Start with observations (data) and try to determine the probabilities of each event\n",
    "- Use coin flip example"
   ]
  },
  {
   "cell_type": "markdown",
   "metadata": {},
   "source": [
    "## Descriptive vs Inferential vs Predictive Statistics\n",
    "- Descriptive Statistics simply describe what is observed. The average height of a high school football team can be directly calculated by measuring all of the current players height.\n",
    "- When doing inferential statistics we are trying to say something general about a larger group of subjects than those we have measured. To continue the football example, we would be doing descriptive statistics if we wanted to know about the average height of all high school football teams.\n",
    "    - To put it another way, statistical inference is the process by which we take observations of a subset of a group and generalize to the whole group.\n",
    "    - In statistics the entire group is known as the population while the subset is a sample\n",
    "    - We would use samples if the population is:\n",
    "        - Too big to enumerate\n",
    "        - Difficult, time consuming or expensive to get new samples\n",
    "- Predictive statistics is when we don’t so much care about the relationships between variables but how accurate* the outputs are"
   ]
  },
  {
   "cell_type": "markdown",
   "metadata": {},
   "source": [
    "## Hands on Example: What is the proportion of m&m’s in the bowl?\n",
    "    - How should we calculate this?\n",
    "        - Guess\n",
    "        - Brute force (count every piece of candy)\n",
    "        - Sampling!"
   ]
  },
  {
   "cell_type": "markdown",
   "metadata": {},
   "source": [
    "### Sampling Procedure \n",
    "\n",
    "1. Each person will come up to sample 10 pieces of candy from the bowl with spoon\n",
    "2. Calculate the proportion and document the value\n",
    "3. Return candy to bowl"
   ]
  },
  {
   "cell_type": "code",
   "execution_count": null,
   "metadata": {},
   "outputs": [],
   "source": [
    "import numpy as np\n",
    "import scipy.stats as scs\n",
    "import matplotlib.pyplot as plt\n",
    "\n",
    "sample_size_mms = 10\n",
    "proportion_mms = np.array([.2, .08, .24, .18, .29, .2, .11, .3])"
   ]
  },
  {
   "cell_type": "markdown",
   "metadata": {},
   "source": [
    "### Visualize our Empirical Distribution"
   ]
  },
  {
   "cell_type": "code",
   "execution_count": null,
   "metadata": {},
   "outputs": [],
   "source": [
    "fig, ax = plt.subplots(figsize=(9, 7))\n",
    "\n",
    "ax.hist(proportion_mms)\n",
    "ax.axvline(proportion_mms.mean(), linestyle='--', color='black')\n",
    "ax.set_xlim(0, 1)\n",
    "ax.set_xlabel('Proportion of M&Ms')\n",
    "ax.set_ylabel('Frequency')\n",
    "ax.set_title(f'Distribution of Proportions of m&ms to Skittles with a Sample Size of of {sample_size_mms}');\n",
    "proportion_mms.mean()"
   ]
  },
  {
   "cell_type": "markdown",
   "metadata": {},
   "source": [
    "#### Create grpahing function\n",
    "We will be using a similar graph many times later on so lets put this into a function we can reuse later on"
   ]
  },
  {
   "cell_type": "code",
   "execution_count": null,
   "metadata": {},
   "outputs": [],
   "source": [
    "def plot_mm_distribution(samples, sample_size, fig, ax, bins=15):\n",
    "    ax.hist(samples, bins=bins)\n",
    "    ax.axvline(samples.mean(), linestyle='--', color='black')\n",
    "    ax.set_xlim(0, 1)\n",
    "    ax.set_xlabel('Proportion of M&Ms')\n",
    "    ax.set_ylabel('Frequency')\n",
    "    ax.set_title(f'Sample Size: {sample_size}, Number of Samples: {len(samples)}, Mean: {samples.mean():.2f}')\n",
    "    fig.tight_layout()"
   ]
  },
  {
   "cell_type": "markdown",
   "metadata": {},
   "source": [
    "## Virtual Candy\n",
    "\n",
    "Lets now model this process using scipy!"
   ]
  },
  {
   "cell_type": "code",
   "execution_count": null,
   "metadata": {},
   "outputs": [],
   "source": [
    "sample_size = 10\n",
    "proportion_m = 0.14\n",
    "num_samples = 8\n",
    "\n",
    "# Simulate taking a sample from the candy bowl with a binomial distribution\n",
    "candy_bowl = scs.binom(sample_size, proportion_m)\n",
    "\n",
    "candy_bowl"
   ]
  },
  {
   "cell_type": "markdown",
   "metadata": {},
   "source": [
    "### Get multiple samples of size n and divide by the number of samples to get an array of proportions"
   ]
  },
  {
   "cell_type": "code",
   "execution_count": null,
   "metadata": {},
   "outputs": [],
   "source": [
    "class_sample = candy_bowl.rvs(size=num_samples) / sample_size\n",
    "\n",
    "class_sample"
   ]
  },
  {
   "cell_type": "markdown",
   "metadata": {},
   "source": [
    "### Plot the distribution"
   ]
  },
  {
   "cell_type": "code",
   "execution_count": null,
   "metadata": {},
   "outputs": [],
   "source": [
    "import matplotlib.pyplot as plt\n",
    "\n",
    "fig, ax = plt.subplots(figsize=(9, 7))\n",
    "\n",
    "plot_mm_distribution(class_sample, sample_size, fig, ax);"
   ]
  },
  {
   "cell_type": "markdown",
   "metadata": {},
   "source": [
    "### What happens as we vary sample size and number of samples?"
   ]
  },
  {
   "cell_type": "code",
   "execution_count": null,
   "metadata": {},
   "outputs": [],
   "source": [
    "fig, axes = plt.subplots(1, 3, figsize=(20, 4))\n",
    "proportion = .14\n",
    "num_samples = 30\n",
    "sample_sizes = [5, 50, 500]\n",
    "\n",
    "for sample_size, ax in zip(sample_sizes, axes.flatten()):\n",
    "    dist = scs.binom(sample_size, proportion)\n",
    "    samples = dist.rvs(size=num_samples) / sample_size\n",
    "    plot_mm_distribution(samples, sample_size, fig, ax, bins=20)"
   ]
  },
  {
   "cell_type": "code",
   "execution_count": null,
   "metadata": {},
   "outputs": [],
   "source": [
    "fig, axes = plt.subplots(1, 3, figsize=(20, 4))\n",
    "proportion = .14\n",
    "sample_size = 500\n",
    "num_samples = [5, 50, 500000]\n",
    "\n",
    "for num_samples, ax in zip(sample_sizes, axes.flatten()):\n",
    "    dist = scs.binom(sample_size, proportion)\n",
    "    samples = dist.rvs(size=num_samples) / sample_size\n",
    "    plot_mm_distribution(samples, sample_size, fig, ax, bins=20)"
   ]
  },
  {
   "cell_type": "markdown",
   "metadata": {},
   "source": [
    "## Types of Sampling"
   ]
  },
  {
   "cell_type": "markdown",
   "metadata": {},
   "source": [
    "### Nonprobability Sampling\n",
    "\n",
    "- Volunteer Samples\n",
    "    - Common when it is very difficult to randomly select from a population ie studies on people who use illegal drugs\n",
    "- Convenience Samples\n",
    "- Quota Sampling"
   ]
  },
  {
   "cell_type": "markdown",
   "metadata": {},
   "source": [
    "### Probability Sampling\n",
    "\n",
    "- Simple Random Sampling\n",
    "    - All samples have an equal chance of being selected\n",
    "- Systematic Sampling"
   ]
  }
 ],
 "metadata": {
  "kernelspec": {
   "display_name": "Python 3",
   "language": "python",
   "name": "python3"
  },
  "language_info": {
   "codemirror_mode": {
    "name": "ipython",
    "version": 3
   },
   "file_extension": ".py",
   "mimetype": "text/x-python",
   "name": "python",
   "nbconvert_exporter": "python",
   "pygments_lexer": "ipython3",
   "version": "3.7.3"
  }
 },
 "nbformat": 4,
 "nbformat_minor": 2
}
